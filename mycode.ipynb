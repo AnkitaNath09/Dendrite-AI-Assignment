{
 "cells": [
  {
   "cell_type": "code",
   "execution_count": 110,
   "id": "92c264b6",
   "metadata": {},
   "outputs": [],
   "source": [
    "#importing libraries\n",
    "import pandas as pd\n",
    "import numpy as np\n",
    "import matplotlib.pyplot as plt\n",
    "import seaborn as sns"
   ]
  },
  {
   "cell_type": "code",
   "execution_count": 111,
   "id": "e45c0fd6",
   "metadata": {},
   "outputs": [
    {
     "name": "stdout",
     "output_type": "stream",
     "text": [
      "Defaulting to user installation because normal site-packages is not writeable\n",
      "Requirement already satisfied: striprtf in c:\\users\\tanmay chakraborty\\appdata\\roaming\\python\\python39\\site-packages (0.0.26)\n"
     ]
    }
   ],
   "source": [
    "!pip install striprtf"
   ]
  },
  {
   "cell_type": "code",
   "execution_count": 112,
   "id": "dca16c25",
   "metadata": {},
   "outputs": [],
   "source": [
    "#reading rich text file\n",
    "import json\n",
    "from striprtf.striprtf import rtf_to_text\n",
    "\n",
    "# Open the file and read the content\n",
    "with open(\"algoparams_from_ui.json.rtf\", \"r\") as file:\n",
    "    rtf_content = file.read()\n",
    "\n",
    "# Convert RTF to plain text\n",
    "plain_text = rtf_to_text(rtf_content)\n",
    "\n",
    "# Try to parse the resulting text as JSON\n",
    "try:\n",
    "    data = json.loads(plain_text)\n",
    "except json.JSONDecodeError:\n",
    "    print(\"The text could not be parsed as JSON.\")"
   ]
  },
  {
   "cell_type": "code",
   "execution_count": 113,
   "id": "6360c02e",
   "metadata": {},
   "outputs": [
    {
     "data": {
      "text/plain": [
       "{'prediction_type': 'Regression',\n",
       " 'target': 'petal_width',\n",
       " 'type': 'regression',\n",
       " 'partitioning': True}"
      ]
     },
     "execution_count": 113,
     "metadata": {},
     "output_type": "execute_result"
    }
   ],
   "source": [
    "#Reading the target key\n",
    "data['design_state_data'][\"target\"]"
   ]
  },
  {
   "cell_type": "code",
   "execution_count": 114,
   "id": "cede936b",
   "metadata": {},
   "outputs": [],
   "source": [
    "#read the data\n",
    "df=pd.read_csv(\"iris.csv\")"
   ]
  },
  {
   "cell_type": "code",
   "execution_count": 115,
   "id": "361265c3",
   "metadata": {},
   "outputs": [
    {
     "data": {
      "text/html": [
       "<div>\n",
       "<style scoped>\n",
       "    .dataframe tbody tr th:only-of-type {\n",
       "        vertical-align: middle;\n",
       "    }\n",
       "\n",
       "    .dataframe tbody tr th {\n",
       "        vertical-align: top;\n",
       "    }\n",
       "\n",
       "    .dataframe thead th {\n",
       "        text-align: right;\n",
       "    }\n",
       "</style>\n",
       "<table border=\"1\" class=\"dataframe\">\n",
       "  <thead>\n",
       "    <tr style=\"text-align: right;\">\n",
       "      <th></th>\n",
       "      <th>sepal_length</th>\n",
       "      <th>sepal_width</th>\n",
       "      <th>petal_length</th>\n",
       "      <th>petal_width</th>\n",
       "      <th>species</th>\n",
       "    </tr>\n",
       "  </thead>\n",
       "  <tbody>\n",
       "    <tr>\n",
       "      <th>0</th>\n",
       "      <td>5.1</td>\n",
       "      <td>3.5</td>\n",
       "      <td>1.4</td>\n",
       "      <td>0.2</td>\n",
       "      <td>Iris-setosa</td>\n",
       "    </tr>\n",
       "    <tr>\n",
       "      <th>1</th>\n",
       "      <td>4.9</td>\n",
       "      <td>3.0</td>\n",
       "      <td>1.4</td>\n",
       "      <td>0.2</td>\n",
       "      <td>Iris-setosa</td>\n",
       "    </tr>\n",
       "    <tr>\n",
       "      <th>2</th>\n",
       "      <td>4.7</td>\n",
       "      <td>3.2</td>\n",
       "      <td>1.3</td>\n",
       "      <td>0.2</td>\n",
       "      <td>Iris-setosa</td>\n",
       "    </tr>\n",
       "    <tr>\n",
       "      <th>3</th>\n",
       "      <td>4.6</td>\n",
       "      <td>3.1</td>\n",
       "      <td>1.5</td>\n",
       "      <td>0.2</td>\n",
       "      <td>Iris-setosa</td>\n",
       "    </tr>\n",
       "    <tr>\n",
       "      <th>4</th>\n",
       "      <td>5.0</td>\n",
       "      <td>3.6</td>\n",
       "      <td>1.4</td>\n",
       "      <td>0.2</td>\n",
       "      <td>Iris-setosa</td>\n",
       "    </tr>\n",
       "    <tr>\n",
       "      <th>...</th>\n",
       "      <td>...</td>\n",
       "      <td>...</td>\n",
       "      <td>...</td>\n",
       "      <td>...</td>\n",
       "      <td>...</td>\n",
       "    </tr>\n",
       "    <tr>\n",
       "      <th>145</th>\n",
       "      <td>6.7</td>\n",
       "      <td>3.0</td>\n",
       "      <td>5.2</td>\n",
       "      <td>2.3</td>\n",
       "      <td>Iris-virginica</td>\n",
       "    </tr>\n",
       "    <tr>\n",
       "      <th>146</th>\n",
       "      <td>6.3</td>\n",
       "      <td>2.5</td>\n",
       "      <td>5.0</td>\n",
       "      <td>1.9</td>\n",
       "      <td>Iris-virginica</td>\n",
       "    </tr>\n",
       "    <tr>\n",
       "      <th>147</th>\n",
       "      <td>6.5</td>\n",
       "      <td>3.0</td>\n",
       "      <td>5.2</td>\n",
       "      <td>2.0</td>\n",
       "      <td>Iris-virginica</td>\n",
       "    </tr>\n",
       "    <tr>\n",
       "      <th>148</th>\n",
       "      <td>6.2</td>\n",
       "      <td>3.4</td>\n",
       "      <td>5.4</td>\n",
       "      <td>2.3</td>\n",
       "      <td>Iris-virginica</td>\n",
       "    </tr>\n",
       "    <tr>\n",
       "      <th>149</th>\n",
       "      <td>5.9</td>\n",
       "      <td>3.0</td>\n",
       "      <td>5.1</td>\n",
       "      <td>1.8</td>\n",
       "      <td>Iris-virginica</td>\n",
       "    </tr>\n",
       "  </tbody>\n",
       "</table>\n",
       "<p>150 rows × 5 columns</p>\n",
       "</div>"
      ],
      "text/plain": [
       "     sepal_length  sepal_width  petal_length  petal_width         species\n",
       "0             5.1          3.5           1.4          0.2     Iris-setosa\n",
       "1             4.9          3.0           1.4          0.2     Iris-setosa\n",
       "2             4.7          3.2           1.3          0.2     Iris-setosa\n",
       "3             4.6          3.1           1.5          0.2     Iris-setosa\n",
       "4             5.0          3.6           1.4          0.2     Iris-setosa\n",
       "..            ...          ...           ...          ...             ...\n",
       "145           6.7          3.0           5.2          2.3  Iris-virginica\n",
       "146           6.3          2.5           5.0          1.9  Iris-virginica\n",
       "147           6.5          3.0           5.2          2.0  Iris-virginica\n",
       "148           6.2          3.4           5.4          2.3  Iris-virginica\n",
       "149           5.9          3.0           5.1          1.8  Iris-virginica\n",
       "\n",
       "[150 rows x 5 columns]"
      ]
     },
     "execution_count": 115,
     "metadata": {},
     "output_type": "execute_result"
    }
   ],
   "source": [
    "df"
   ]
  },
  {
   "cell_type": "code",
   "execution_count": 116,
   "id": "e2dd0cff",
   "metadata": {},
   "outputs": [
    {
     "data": {
      "text/plain": [
       "{'sepal_length': {'feature_name': 'sepal_length',\n",
       "  'is_selected': True,\n",
       "  'feature_variable_type': 'numerical',\n",
       "  'feature_details': {'numerical_handling': 'Keep as regular numerical feature',\n",
       "   'rescaling': 'No rescaling',\n",
       "   'make_derived_feats': False,\n",
       "   'missing_values': 'Impute',\n",
       "   'impute_with': 'Average of values',\n",
       "   'impute_value': 0}},\n",
       " 'sepal_width': {'feature_name': 'sepal_width',\n",
       "  'is_selected': True,\n",
       "  'feature_variable_type': 'numerical',\n",
       "  'feature_details': {'numerical_handling': 'Keep as regular numerical feature',\n",
       "   'rescaling': 'No rescaling',\n",
       "   'make_derived_feats': False,\n",
       "   'missing_values': 'Impute',\n",
       "   'impute_with': 'custom',\n",
       "   'impute_value': -1}},\n",
       " 'petal_length': {'feature_name': 'petal_length',\n",
       "  'is_selected': True,\n",
       "  'feature_variable_type': 'numerical',\n",
       "  'feature_details': {'numerical_handling': 'Keep as regular numerical feature',\n",
       "   'rescaling': 'No rescaling',\n",
       "   'make_derived_feats': False,\n",
       "   'missing_values': 'Impute',\n",
       "   'impute_with': 'Average of values',\n",
       "   'impute_value': 0}},\n",
       " 'petal_width': {'feature_name': 'petal_width',\n",
       "  'is_selected': True,\n",
       "  'feature_variable_type': 'numerical',\n",
       "  'feature_details': {'numerical_handling': 'Keep as regular numerical feature',\n",
       "   'rescaling': 'No rescaling',\n",
       "   'make_derived_feats': False,\n",
       "   'missing_values': 'Impute',\n",
       "   'impute_with': 'custom',\n",
       "   'impute_value': -2}},\n",
       " 'species': {'feature_name': 'species',\n",
       "  'is_selected': True,\n",
       "  'feature_variable_type': 'text',\n",
       "  'feature_details': {'text_handling': 'Tokenize and hash',\n",
       "   'hash_columns': 0}}}"
      ]
     },
     "execution_count": 116,
     "metadata": {},
     "output_type": "execute_result"
    }
   ],
   "source": [
    "#Handling features\n",
    "data['design_state_data']['feature_handling']"
   ]
  },
  {
   "cell_type": "code",
   "execution_count": 117,
   "id": "1b8b36de",
   "metadata": {},
   "outputs": [],
   "source": [
    "#Handling missing values on sepal_length column\n",
    "df[\"sepal_length\"]=df[\"sepal_length\"].fillna(data['design_state_data']['feature_handling']['sepal_length']['feature_details']['impute_value'])"
   ]
  },
  {
   "cell_type": "code",
   "execution_count": 118,
   "id": "205c9f90",
   "metadata": {},
   "outputs": [],
   "source": [
    "#Handling missing values on sepal_width column\n",
    "df[\"sepal_width\"]=df[\"sepal_width\"].fillna(data['design_state_data']['feature_handling']['sepal_width']['feature_details']['impute_value'])"
   ]
  },
  {
   "cell_type": "code",
   "execution_count": 119,
   "id": "966d5d68",
   "metadata": {},
   "outputs": [],
   "source": [
    "#Handling missing values on petal_length column\n",
    "df[\"petal_length\"]=df[\"petal_length\"].fillna(data['design_state_data']['feature_handling']['petal_length']['feature_details']['impute_value'])"
   ]
  },
  {
   "cell_type": "code",
   "execution_count": 120,
   "id": "027ba77d",
   "metadata": {},
   "outputs": [],
   "source": [
    "#Handling missing values on petal_length column\n",
    "df[\"petal_width\"]=df[\"petal_width\"].fillna(data['design_state_data']['feature_handling']['petal_width']['feature_details']['impute_value'])"
   ]
  },
  {
   "cell_type": "code",
   "execution_count": 121,
   "id": "7f27890d",
   "metadata": {
    "scrolled": false
   },
   "outputs": [
    {
     "data": {
      "text/plain": [
       "{'feature_reduction_method': 'Tree-based',\n",
       " 'num_of_features_to_keep': '4',\n",
       " 'num_of_trees': '5',\n",
       " 'depth_of_trees': '6'}"
      ]
     },
     "execution_count": 121,
     "metadata": {},
     "output_type": "execute_result"
    }
   ],
   "source": [
    "feature_reduction_params=data['design_state_data']['feature_reduction']\n",
    "feature_reduction_params"
   ]
  },
  {
   "cell_type": "code",
   "execution_count": 122,
   "id": "942db206",
   "metadata": {},
   "outputs": [
    {
     "name": "stdout",
     "output_type": "stream",
     "text": [
      "Feature Importances:\n",
      "        Feature  Importance\n",
      "2  petal_length    0.544372\n",
      "3       species    0.421926\n",
      "1   sepal_width    0.020962\n",
      "0  sepal_length    0.012740\n"
     ]
    }
   ],
   "source": [
    "import pandas as pd\n",
    "from sklearn.model_selection import train_test_split\n",
    "from sklearn.ensemble import RandomForestRegressor\n",
    "from sklearn.preprocessing import LabelEncoder\n",
    "label_encoder = LabelEncoder()\n",
    "\n",
    "\n",
    "\n",
    "# Encode the 'species' column\n",
    "df['species'] = label_encoder.fit_transform(df['species'])\n",
    "# Load the Iris dataset\n",
    "# Separate features and target variable\n",
    "X = df.drop('petal_width', axis=1)\n",
    "y = df['petal_width']\n",
    "\n",
    "X_train,X_test,y_train,y_test=train_test_split(X,y,test_size=0.3)\n",
    "\n",
    "# Create a Random Forest Classifier\n",
    "rf_classifier = RandomForestRegressor(n_estimators=int(feature_reduction_params['num_of_trees']),max_depth=int(feature_reduction_params['depth_of_trees']))\n",
    "\n",
    "# Fit the classifier on the data\n",
    "rf_classifier.fit(X_train, y_train)\n",
    "\n",
    "# Get the feature importances\n",
    "feature_importances = rf_classifier.feature_importances_\n",
    "\n",
    "# Create a DataFrame to store feature importances\n",
    "feature_importance_df = pd.DataFrame({'Feature': X.columns, 'Importance': feature_importances})\n",
    "\n",
    "# Sort the DataFrame in descending order of importance\n",
    "feature_importance_df = feature_importance_df.sort_values(by='Importance', ascending=False)\n",
    "\n",
    "# Print the feature importances\n",
    "print(\"Feature Importances:\")\n",
    "print(feature_importance_df)\n",
    "\n",
    "# Select the top n features (e.g., n=2) based on importance\n",
    "n_top_features = 2\n",
    "selected_features = feature_importance_df.head(n_top_features)['Feature'].tolist()\n",
    "\n",
    "# Create a new DataFrame with only the selected features and target variable\n",
    "reduced_df = df[selected_features + ['petal_width']]\n",
    "\n",
    "important_features=reduced_df.columns\n"
   ]
  },
  {
   "cell_type": "code",
   "execution_count": 123,
   "id": "2e846de9",
   "metadata": {},
   "outputs": [],
   "source": [
    "#fetching only regression models\n",
    "regression_model_names=[names for names in data['design_state_data']['algorithms'].keys() if \"regressor\" in names.lower()]"
   ]
  },
  {
   "cell_type": "code",
   "execution_count": 124,
   "id": "158cb183",
   "metadata": {},
   "outputs": [
    {
     "data": {
      "text/plain": [
       "['RandomForestRegressor', 'GBTRegressor', 'DecisionTreeRegressor']"
      ]
     },
     "execution_count": 124,
     "metadata": {},
     "output_type": "execute_result"
    }
   ],
   "source": [
    "regression_model_names"
   ]
  },
  {
   "cell_type": "code",
   "execution_count": 125,
   "id": "1e09b94c",
   "metadata": {},
   "outputs": [
    {
     "data": {
      "text/plain": [
       "1.5"
      ]
     },
     "execution_count": 125,
     "metadata": {},
     "output_type": "execute_result"
    }
   ],
   "source": [
    "data['design_state_data']['algorithms'][\"GBTRegressor\"]['max_stepsize']+1"
   ]
  },
  {
   "cell_type": "code",
   "execution_count": 126,
   "id": "e48b8507",
   "metadata": {},
   "outputs": [],
   "source": [
    "from sklearn.ensemble import RandomForestRegressor,GradientBoostingRegressor\n",
    "from sklearn.tree import DecisionTreeRegressor\n",
    "from sklearn.model_selection import GridSearchCV\n",
    "from sklearn.model_selection import KFold\n",
    "\n",
    "rf_param_grid = {\n",
    "    'n_estimators': range(data['design_state_data']['algorithms'][\"RandomForestRegressor\"]['min_trees'], data['design_state_data']['algorithms'][\"RandomForestRegressor\"]['max_trees']+1),  # This represents the number of trees\n",
    "    'max_depth': range(data['design_state_data']['algorithms'][\"RandomForestRegressor\"]['min_depth'], data['design_state_data']['algorithms'][\"RandomForestRegressor\"]['max_depth']+1),\n",
    "    'min_samples_leaf': range(data['design_state_data']['algorithms'][\"RandomForestRegressor\"]['min_samples_per_leaf_min_value'], data['design_state_data']['algorithms'][\"RandomForestRegressor\"]['min_samples_per_leaf_max_value']+1)}\n",
    "\n",
    "gbt_param_grid = {\n",
    "    'n_estimators': range(data['design_state_data']['algorithms'][\"GBTRegressor\"]['num_of_BoostingStages'][0], data['design_state_data']['algorithms'][\"GBTRegressor\"]['num_of_BoostingStages'][1]),  # This represents the number of boosting stages\n",
    "    'max_depth': range(data['design_state_data']['algorithms'][\"GBTRegressor\"]['min_depth'], data['design_state_data']['algorithms'][\"GBTRegressor\"]['max_depth']+1),\n",
    "    'min_samples_leaf': range(data['design_state_data']['algorithms'][\"GBTRegressor\"]['min_subsample'], data['design_state_data']['algorithms'][\"GBTRegressor\"]['max_subsample']+1),\n",
    "    'learning_rate': [data['design_state_data']['algorithms'][\"GBTRegressor\"]['min_stepsize'],data['design_state_data']['algorithms'][\"GBTRegressor\"]['max_stepsize']],  # This represents the step size\n",
    "}\n",
    "\n",
    "dt_param_grid = {\n",
    "    'max_depth': range(data['design_state_data']['algorithms'][\"DecisionTreeRegressor\"]['min_depth'], data['design_state_data']['algorithms'][\"DecisionTreeRegressor\"]['max_depth']+1),\n",
    "    'min_samples_leaf': data['design_state_data']['algorithms'][\"DecisionTreeRegressor\"]['min_samples_per_leaf'],\n",
    "    'criterion': ['friedman_mse']  # This represents the function to measure the quality of a split\n",
    "}\n",
    "\n",
    "\n",
    "hyperparameters=data['design_state_data']['hyperparameters']\n",
    "\n",
    "rf=RandomForestRegressor()\n",
    "kfold = KFold(n_splits=hyperparameters['num_of_folds'], shuffle=hyperparameters[\"shuffle_grid\"], random_state=hyperparameters['random_state'])\n",
    "grid_search_rf = GridSearchCV(estimator=rf, param_grid=rf_param_grid, cv=hyperparameters['max_iterations'], n_jobs=hyperparameters['parallelism'])"
   ]
  },
  {
   "cell_type": "code",
   "execution_count": 127,
   "id": "2f4e7a7a",
   "metadata": {},
   "outputs": [],
   "source": [
    "gb=GradientBoostingRegressor(criterion='friedman_mse')\n",
    "kfold = KFold(n_splits=hyperparameters['num_of_folds'], shuffle=hyperparameters[\"shuffle_grid\"], random_state=hyperparameters['random_state'])\n",
    "grid_search_gb = GridSearchCV(estimator=gb, param_grid=gbt_param_grid, cv=kfold, n_jobs=hyperparameters['parallelism'])"
   ]
  },
  {
   "cell_type": "code",
   "execution_count": 128,
   "id": "31986182",
   "metadata": {},
   "outputs": [],
   "source": [
    "dt=DecisionTreeRegressor(criterion='friedman_mse')\n",
    "kfold = KFold(n_splits=hyperparameters['num_of_folds'], shuffle=hyperparameters[\"shuffle_grid\"], random_state=hyperparameters['random_state'])\n",
    "grid_search_dt = GridSearchCV(estimator=dt, param_grid=dt_param_grid, cv=kfold, n_jobs=hyperparameters['parallelism'])"
   ]
  },
  {
   "cell_type": "code",
   "execution_count": 129,
   "id": "430c251e",
   "metadata": {},
   "outputs": [
    {
     "name": "stdout",
     "output_type": "stream",
     "text": [
      "{'max_depth': 21, 'min_samples_leaf': 5, 'n_estimators': 10}\n"
     ]
    }
   ],
   "source": [
    "grid_search_rf.fit(X_train, y_train)\n",
    "\n",
    "# Get the best parameters\n",
    "best_params = grid_search_rf.best_params_\n",
    "print(best_params)"
   ]
  },
  {
   "cell_type": "code",
   "execution_count": 130,
   "id": "9a865e5c",
   "metadata": {},
   "outputs": [
    {
     "name": "stdout",
     "output_type": "stream",
     "text": [
      "{'learning_rate': 0.1, 'max_depth': 5, 'min_samples_leaf': 2, 'n_estimators': 70}\n"
     ]
    }
   ],
   "source": [
    "grid_search_gb.fit(X_train, y_train)\n",
    "\n",
    "# Get the best parameters\n",
    "best_params = grid_search_gb.best_params_\n",
    "print(best_params)"
   ]
  },
  {
   "cell_type": "code",
   "execution_count": 131,
   "id": "0c56f5c5",
   "metadata": {},
   "outputs": [
    {
     "name": "stdout",
     "output_type": "stream",
     "text": [
      "{'criterion': 'friedman_mse', 'max_depth': 5, 'min_samples_leaf': 6}\n"
     ]
    }
   ],
   "source": [
    "grid_search_dt.fit(X_train, y_train)\n",
    "\n",
    "# Get the best parameters\n",
    "best_params = grid_search_dt.best_params_\n",
    "print(best_params)"
   ]
  },
  {
   "cell_type": "code",
   "execution_count": 132,
   "id": "7121e76c",
   "metadata": {},
   "outputs": [
    {
     "data": {
      "text/plain": [
       "array([0.15714286, 1.31666667, 1.1125    , 0.34444444, 1.88333333,\n",
       "       0.2       , 0.34444444, 1.45714286, 0.2625    , 2.12857143,\n",
       "       1.37142857, 0.34444444, 1.1125    , 1.1125    , 2.03333333,\n",
       "       2.12857143, 0.2       , 1.71428571, 2.03333333, 2.03333333,\n",
       "       0.2       , 0.2625    , 1.71428571, 2.12857143, 1.1125    ,\n",
       "       0.2625    , 0.2       , 1.88333333, 1.1125    , 1.45714286,\n",
       "       1.31666667, 1.1125    , 0.2       , 1.1125    , 1.45714286,\n",
       "       1.37142857, 2.03333333, 1.1125    , 2.12857143, 1.37142857,\n",
       "       0.34444444, 0.2       , 2.03333333, 1.88333333, 1.71428571])"
      ]
     },
     "execution_count": 132,
     "metadata": {},
     "output_type": "execute_result"
    }
   ],
   "source": [
    "#prediction on decsion tree\n",
    "grid_search_dt.predict(X_test)"
   ]
  },
  {
   "cell_type": "code",
   "execution_count": 133,
   "id": "fd6b768f",
   "metadata": {},
   "outputs": [
    {
     "data": {
      "text/plain": [
       "array([0.15202951, 1.26570348, 1.2659667 , 0.50624662, 1.85295993,\n",
       "       0.24285921, 0.39746648, 1.4612412 , 0.27740085, 2.24777129,\n",
       "       1.32164539, 0.33338882, 1.22038031, 1.2659667 , 1.93721318,\n",
       "       2.01373495, 0.19477688, 1.71547755, 1.88995112, 1.84764112,\n",
       "       0.21250224, 0.33964822, 1.71547755, 2.17806779, 1.22629729,\n",
       "       0.20894693, 0.21904717, 2.03947867, 1.08228383, 1.42976716,\n",
       "       1.27576046, 1.29346507, 0.16739521, 1.14542791, 1.40660104,\n",
       "       1.60007716, 1.80316836, 1.27322021, 2.29573895, 1.33655987,\n",
       "       0.34395926, 0.27252348, 1.86067082, 2.12671863, 1.7220968 ])"
      ]
     },
     "execution_count": 133,
     "metadata": {},
     "output_type": "execute_result"
    }
   ],
   "source": [
    "#prediction on gradient boosting\n",
    "grid_search_gb.predict(X_test)"
   ]
  },
  {
   "cell_type": "code",
   "execution_count": 134,
   "id": "bc0fc2c2",
   "metadata": {},
   "outputs": [
    {
     "data": {
      "text/plain": [
       "array([0.18263095, 1.25666667, 1.1652381 , 0.29497222, 1.79772423,\n",
       "       0.20280739, 0.2967904 , 1.46283304, 0.26038004, 1.89067878,\n",
       "       1.32771055, 0.30561797, 1.2042381 , 1.1652381 , 2.06888095,\n",
       "       2.05888095, 0.20462557, 1.88562698, 2.07915873, 1.96848413,\n",
       "       0.22264144, 0.24161416, 1.88562698, 2.08706277, 1.2042381 ,\n",
       "       0.23843235, 0.20742857, 1.78503376, 1.1652381 , 1.45637272,\n",
       "       1.46444071, 1.1882381 , 0.19959524, 1.1652381 , 1.40150344,\n",
       "       1.42726611, 2.07915873, 1.1652381 , 1.92721724, 1.35348016,\n",
       "       0.25923268, 0.20462557, 1.95265079, 1.77336709, 1.80990555])"
      ]
     },
     "execution_count": 134,
     "metadata": {},
     "output_type": "execute_result"
    }
   ],
   "source": [
    "#prediction on random forest\n",
    "grid_search_rf.predict(X_test)"
   ]
  },
  {
   "cell_type": "code",
   "execution_count": null,
   "id": "9704177b",
   "metadata": {},
   "outputs": [],
   "source": []
  }
 ],
 "metadata": {
  "kernelspec": {
   "display_name": "Python 3 (ipykernel)",
   "language": "python",
   "name": "python3"
  },
  "language_info": {
   "codemirror_mode": {
    "name": "ipython",
    "version": 3
   },
   "file_extension": ".py",
   "mimetype": "text/x-python",
   "name": "python",
   "nbconvert_exporter": "python",
   "pygments_lexer": "ipython3",
   "version": "3.9.12"
  }
 },
 "nbformat": 4,
 "nbformat_minor": 5
}
